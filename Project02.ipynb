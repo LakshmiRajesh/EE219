{
 "cells": [
  {
   "cell_type": "code",
   "execution_count": 6,
   "metadata": {},
   "outputs": [],
   "source": [
    "import numpy as np\n",
    "import nltk\n",
    "import string\n",
    "from sklearn.feature_extraction.text import TfidfVectorizer\n",
    "\n",
    "\n",
    "from sklearn.datasets import fetch_20newsgroups\n",
    "\n",
    "categories = ['comp.graphics', 'comp.os.ms-windows.misc', 'comp.sys.ibm.pc.hardware', 'comp.sys.mac.hardware',\n",
    "              'rec.autos', 'rec.motorcycles', 'rec.sport.baseball', 'rec.sport.hockey']\n",
    "\n",
    "newsgroups_data = fetch_20newsgroups(subset='all', categories=categories, remove=('headers', 'footers', 'quotes'))"
   ]
  },
  {
   "cell_type": "code",
   "execution_count": 3,
   "metadata": {},
   "outputs": [
    {
     "name": "stdout",
     "output_type": "stream",
     "text": [
      "7882 15728\n"
     ]
    }
   ],
   "source": [
    "#QUESTION 1\n",
    "def tokenize(text):\n",
    "    tokens = nltk.tokenize.word_tokenize(text)\n",
    "    tokens = [token.strip(string.punctuation) for token in tokens if token.isalnum()]\n",
    "    return tokens\n",
    "\n",
    "tfidfVectorizer = TfidfVectorizer(min_df=3, stop_words='english', tokenizer = tokenize)\n",
    "tfidfVectors = tfidfVectorizer.fit_transform(newsgroups_data.data)\n",
    "print (tfidfVectors.shape[0], tfidfVectors.shape[1])"
   ]
  },
  {
   "cell_type": "code",
   "execution_count": 5,
   "metadata": {},
   "outputs": [
    {
     "name": "stdout",
     "output_type": "stream",
     "text": [
      "Homogeneity: 0.389\n",
      "Completeness: 0.435\n",
      "V-measure: 0.411\n",
      "Adjusted Rand-Index: 0.380\n",
      "Adjusted Mutual Information Score: 0.389\n",
      "Contingency Table: \n",
      "[[1482 2421]\n",
      " [3951   28]]\n"
     ]
    },
    {
     "name": "stderr",
     "output_type": "stream",
     "text": [
      "C:\\Users\\laksh\\Anaconda3\\lib\\site-packages\\sklearn\\metrics\\cluster\\supervised.py:732: FutureWarning: The behavior of AMI will change in version 0.22. To match the behavior of 'v_measure_score', AMI will use average_method='arithmetic' by default.\n",
      "  FutureWarning)\n"
     ]
    }
   ],
   "source": [
    "#QUESTION 2 AND 3\n",
    "from sklearn.cluster import KMeans\n",
    "from sklearn import metrics\n",
    "\n",
    "vectorFunc = np.vectorize(lambda x : int(x / 4))\n",
    "labels = vectorFunc(newsgroups_data.target)\n",
    "\n",
    "cur_k = 2\n",
    "km = KMeans(n_clusters = cur_k, init = 'k-means++')\n",
    "km.fit(tfidfVectors)\n",
    "\n",
    "def contingency_table(true_labels, predicted_labels):\n",
    "    n_clusters = len(np.unique(predicted_labels))\n",
    "    CT = np.zeros(shape = (n_clusters,n_clusters))\n",
    "    uniq_true = np.unique(true_labels)\n",
    "    for i, true_label in enumerate(uniq_true):\n",
    "        for j, predicted_label in enumerate(predicted_labels):\n",
    "            if(true_labels[j] == true_label):\n",
    "                CT[i][predicted_label] += 1\n",
    "    return CT\n",
    "\n",
    "import matplotlib\n",
    "import matplotlib.pyplot as plt\n",
    "from matplotlib.cm import get_cmap\n",
    "%matplotlib inline\n",
    "\n",
    "def evaluate(labels, kmeans_labels_):\n",
    "    print(\"Homogeneity: %0.3f\" % metrics.homogeneity_score(labels, kmeans_labels_))\n",
    "    print(\"Completeness: %0.3f\" % metrics.completeness_score(labels, kmeans_labels_))\n",
    "    print(\"V-measure: %0.3f\" % metrics.v_measure_score(labels, kmeans_labels_))\n",
    "    print(\"Adjusted Rand-Index: %.3f\" % metrics.adjusted_rand_score(labels, kmeans_labels_))\n",
    "    print(\"Adjusted Mutual Information Score: %.3f\" % metrics.adjusted_mutual_info_score(labels, kmeans_labels_))\n",
    "    print(\"Contingency Table: \")\n",
    "    CT = contingency_table(labels, kmeans_labels_).astype(int)\n",
    "    if len(np.unique(labels)) > 2:\n",
    "        print(plt.matshow(A, cmap=get_cmap('Blues')))\n",
    "    else:\n",
    "        print(CT)\n",
    "\n",
    "evaluate(labels, km.labels_)"
   ]
  },
  {
   "cell_type": "code",
   "execution_count": null,
   "metadata": {},
   "outputs": [],
   "source": []
  }
 ],
 "metadata": {
  "kernelspec": {
   "display_name": "Python 3",
   "language": "python",
   "name": "python3"
  }
 },
 "nbformat": 4,
 "nbformat_minor": 2
}
