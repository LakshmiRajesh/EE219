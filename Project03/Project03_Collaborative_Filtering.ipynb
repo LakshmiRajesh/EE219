{
 "cells": [
  {
   "cell_type": "code",
   "execution_count": null,
   "metadata": {},
   "outputs": [],
   "source": [
    "\n",
    "import matplotlib.pyplot as plt\n",
    "import pandas as pd\n",
    "import numpy as np\n",
    "import math\n",
    "import collections\n",
    "import surprise\n",
    "from collections import Counter\n",
    "from math import sqrt\n",
    "from collections import defaultdict\n",
    "\n",
    "data_ratings = pd.read_csv('ratings.csv',delimiter=',', names = ['user_id', 'item_id', 'rating', 'timestamp'], header=0)\n",
    "user_ids = list(data_ratings.user_id)\n",
    "movie_ids = list(data_ratings.item_id)\n",
    "rating_ids=list(data_ratings.rating)\n",
    "user_vs_movie_ratings = data_ratings.pivot_table(index=['user_id'],columns=['item_id'],values='rating',fill_value=0).values\n",
    "read = surprise.reader.Reader(line_format=u'user item rating timestamp', sep=',',  skip_lines=1, rating_scale=(0.5, 5))\n",
    "data_load = surprise.Dataset.load_from_file(file_path='ratings.csv',reader=read)\n",
    "count_movie = Counter(movie_ids)\n",
    "count_usr_rating = Counter(user_ids)"
   ]
  },
  {
   "cell_type": "code",
   "execution_count": null,
   "metadata": {},
   "outputs": [],
   "source": [
    "\n",
    "# Question 1: Compute sparsity of movie rating dataset\n",
    "\n",
    "def sparsity():\n",
    "    total_ratings_count = user_vs_movie_ratings.shape[0]*user_vs_movie_ratings.shape[1]     #total number of users * total number of movies    #R.shape[0] * R.shape[1]\n",
    "    available_ratings_count = data_ratings.shape[0]     # total number of ratings available    #df.shape[0]\n",
    "    sparsity = float(available_ratings_count) / float(total_ratings_count)\n",
    "    print('Sparsity of the dataset: ', sparsity)\n",
    "\n",
    "sparsity()"
   ]
  },
  {
   "cell_type": "code",
   "execution_count": null,
   "metadata": {},
   "outputs": [],
   "source": [
    "# Question 2:  Histogram of rating counts\n",
    "\n",
    "def ratingsHistogram():\n",
    "    ratings = data_ratings.iloc[0:df.shape[0], 2] \n",
    "    plt.hist(ratings, ec='black', bins=9)#, bins=10)#, bins=[0.5, 1, 1.5, 2, 2.5, 3, 3.5, 4, 4.5, 5])\n",
    "    plt.title(\"Rating value frequencies\")\n",
    "    plt.xlabel(\"Rating\")\n",
    "    plt.ylabel(\"Frequency\")\n",
    "    plt.xticks(np.arange(0, 5.5, 0.5))\n",
    "    plt.show()\n",
    "\n",
    "ratingsHistogram()"
   ]
  },
  {
   "cell_type": "code",
   "execution_count": null,
   "metadata": {},
   "outputs": [],
   "source": [
    "\n",
    "# Question 3: \n",
    "\n",
    "def ratingDistribution():\n",
    "        \n",
    "    movie_ids_2 = list()\n",
    "    ratings_count = list()\n",
    "    for i in sorted(count_movie, key=count_movie.get, reverse=True):\n",
    "        movie_ids_2.append(i)\n",
    "        ratings_count.append(count_movie[i])\n",
    "        \n",
    "    plt.plot(ratings_count)\n",
    "    plt.title(\"Ratings Distribution among movies\")\n",
    "    plt.xlabel(\"Movie ID\")\n",
    "    plt.ylabel(\"Ratings Count\")\n",
    "    plt.xticks(range(10000), \" \")\n",
    "    plt.show()\n",
    "    \n",
    "ratingDistribution()"
   ]
  },
  {
   "cell_type": "code",
   "execution_count": null,
   "metadata": {},
   "outputs": [],
   "source": [
    "\n",
    "# Question 4:\n",
    "\n",
    "def userRatingCounter():\n",
    "\n",
    "    user_ids_2 = list()\n",
    "    ratings_count_2 = list()\n",
    "    for i in sorted(count_usr_rating, key=count_usr_rating.get, reverse=True):\n",
    "        user_ids_2.append(i)\n",
    "        ratings_count_2.append(count_usr_rating[i])\n",
    "    \n",
    "    plt.plot(ratings_count_2)\n",
    "    plt.title(\" User Rating Distribution \")\n",
    "    plt.xlabel(\"User IDs\")\n",
    "    plt.ylabel(\"Ratings Counter\")\n",
    "    plt.xticks(range(900), \" \")\n",
    "    plt.show()\n",
    "    \n",
    "userRatingCounter()"
   ]
  },
  {
   "cell_type": "code",
   "execution_count": null,
   "metadata": {},
   "outputs": [],
   "source": [
    "# Question 6 \n",
    "\n",
    "def varianceHistogram():\n",
    "\n",
    "    data=zip(movie_ids,rating_ids)\n",
    "    data2 = collections.defaultdict(list)\n",
    "    for movie,rating in data:\n",
    "        data2[movie].append(rating)\n",
    "    \n",
    "    movie_list = []\n",
    "    variance_list = []\n",
    "    for i in data2.keys():\n",
    "        movie_list.append(i)\n",
    "        variance_list.append(np.var(data2[i]))\n",
    "    \n",
    "    plt.hist(variance_list, bins=10, ec='black')\n",
    "    plt.title(\"Variance of rating values received by each movie\")\n",
    "    plt.xlabel(\"Variance\")\n",
    "    plt.ylabel(\"Movie count\")\n",
    "    plt.xticks(np.arange(0, 5.5, 0.5))\n",
    "    plt.show()\n",
    "\n",
    "\n",
    "varianceHistogram()"
   ]
  },
  {
   "cell_type": "code",
   "execution_count": null,
   "metadata": {},
   "outputs": [],
   "source": [
    "\n",
    "# Question 10\n",
    "import surprise\n",
    "def KPlots():\n",
    "    test_rmse = []\n",
    "    test_mae = []\n",
    "    k = range(2,102,2)\n",
    "    for i in k:\n",
    "        print(i)\n",
    "        knn = surprise.prediction_algorithms.knns.KNNWithMeans(k = i,sim_options = {'name': 'pearson','user_based': True})\n",
    "        knn_output = surprise.model_selection.cross_validate(knn, data_load, measures=['RMSE', 'MAE'], cv=10, verbose=False)\n",
    "        rmse = knn_output['test_rmse']\n",
    "        mae = knn_output['test_mae']\n",
    "        test_rmse.append(sum(rmse)/10.0)\n",
    "        test_mae.append(sum(mae)/10.0)\n",
    "    print(\"\\n\\nK values: \", k)\n",
    "    print(\"\\n\\nAverage RMSE Values: \", test_rmse)\n",
    "    print(\"\\n\\nAverage MAE Values\", test_mae)\n",
    "    plt.plot(k,test_rmse)\n",
    "    plt.xlabel('K')\n",
    "    plt.ylabel('Average RMSE')\n",
    "    plt.show()\n",
    "    plt.plot(k,test_mae)\n",
    "    plt.xlabel('K')\n",
    "    plt.ylabel('Average MAE')\n",
    "    plt.show()\n",
    "    return test_rmse, test_mae\n",
    "\n",
    "test_rmse, test_mae = KPlots()"
   ]
  },
  {
   "cell_type": "code",
   "execution_count": null,
   "metadata": {},
   "outputs": [],
   "source": [
    "\n",
    "# Question 11: \n",
    "\n",
    "def stableRMSEandMAE():\n",
    "    \n",
    "    for i in range(1, len(test_rmse)):\n",
    "        if (test_rmse[i-1]-test_rmse[i] <= 0.001) and (test_rmse[i-1]-test_rmse[i] >0):# and (test_mae[i-1]-test_mae[i] >0) and (test_mae[i-1]-test_mae[i] <= 0.001):\n",
    "            print(2*i + 1, test_rmse[i-1]-test_rmse[i], test_rmse[i-1]-test_rmse[i])\n",
    "\n",
    "stableRMSEandMAE()"
   ]
  },
  {
   "cell_type": "code",
   "execution_count": null,
   "metadata": {},
   "outputs": [],
   "source": []
  }
 ],
 "metadata": {
  "kernelspec": {
   "display_name": "Python 3",
   "language": "python",
   "name": "python3"
  },
  "language_info": {
   "codemirror_mode": {
    "name": "ipython",
    "version": 3
   },
   "file_extension": ".py",
   "mimetype": "text/x-python",
   "name": "python",
   "nbconvert_exporter": "python",
   "pygments_lexer": "ipython3",
   "version": "3.6.7"
  }
 },
 "nbformat": 4,
 "nbformat_minor": 2
}
